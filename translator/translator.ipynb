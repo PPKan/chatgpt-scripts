{
 "cells": [
  {
   "cell_type": "code",
   "execution_count": 5,
   "id": "cd62c3a6-e72d-424f-add2-e6eab4add7e2",
   "metadata": {
    "tags": []
   },
   "outputs": [],
   "source": [
    "import os\n",
    "import openai\n",
    "from dotenv import load_dotenv, find_dotenv\n",
    "_ = load_dotenv(find_dotenv()) # read local .env file\n",
    "\n",
    "openai.api_key  = os.getenv('OPENAI_API_KEY')"
   ]
  },
  {
   "cell_type": "code",
   "execution_count": 6,
   "id": "5e45f060-82c0-473e-865f-ab33beaf5887",
   "metadata": {
    "tags": []
   },
   "outputs": [],
   "source": [
    "def get_completion(prompt, model=\"gpt-3.5-turbo\"):\n",
    "    messages = [{\"role\": \"user\", \"content\": prompt}]\n",
    "    response = openai.ChatCompletion.create(\n",
    "        model=model,\n",
    "        messages=messages,\n",
    "        temperature=0, # this is the degree of randomness of the model's output\n",
    "    )\n",
    "    return response.choices[0].message[\"content\"]\n",
    "\n",
    "def get_completion_from_messages(messages, model=\"gpt-3.5-turbo\", temperature=0):\n",
    "    response = openai.ChatCompletion.create(\n",
    "        model=model,\n",
    "        messages=messages,\n",
    "        temperature=temperature, # this is the degree of randomness of the model's output\n",
    "    )\n",
    "#     print(str(response.choices[0].message))\n",
    "    return response.choices[0].message[\"content\"]"
   ]
  },
  {
   "cell_type": "code",
   "execution_count": 7,
   "id": "2018d54c-25d6-4925-a616-e06a290dcab4",
   "metadata": {
    "tags": []
   },
   "outputs": [],
   "source": [
    "def read_file_in_chunks(filename, chunk_size=3500):\n",
    "    with open(filename, 'r', encoding='utf-8') as f:\n",
    "        while True:\n",
    "            chunk = f.read(chunk_size)\n",
    "            if not chunk:\n",
    "                break\n",
    "            yield chunk\n",
    "\n",
    "def process_with_chatgpt_api(chunk, chatgpt_api_func):\n",
    "    # Here you would call your chatgpt api function with the chunk as input.\n",
    "    response = chatgpt_api_func(chunk)\n",
    "    return response"
   ]
  },
  {
   "cell_type": "code",
   "execution_count": 8,
   "id": "8e597d0a-06a1-4984-9eb3-cfc79ac40f00",
   "metadata": {
    "tags": []
   },
   "outputs": [],
   "source": [
    "from datetime import datetime\n",
    "\n",
    "def write_to_markdown(text):\n",
    "    \n",
    "    # Get the current date\n",
    "    current_date = datetime.now()\n",
    "\n",
    "    # Format the date as a string in the format \"yymmdd\"\n",
    "    date_string = current_date.strftime('%y%m%d')\n",
    "\n",
    "    # Create the filename\n",
    "    filename = f\"{date_string}-Stratechery.md\"\n",
    "\n",
    "    # Write the text to the file\n",
    "    with open(filename, 'w', encoding='utf-8') as f:\n",
    "        f.write(text)      "
   ]
  },
  {
   "cell_type": "code",
   "execution_count": 15,
   "id": "e583286c-f30e-47a7-aaa6-a45483106bcc",
   "metadata": {
    "tags": []
   },
   "outputs": [],
   "source": [
    "def translate_article(file_path):\n",
    "\n",
    "    chunks = list(read_file_in_chunks(file_path))\n",
    "    length = len(chunks)\n",
    "    \n",
    "    translated = []\n",
    "    for i, chunk in enumerate(chunks):\n",
    "        \n",
    "        messages =  [  \n",
    "        {'role':'system', 'content':'You are an technology article professional translater at translating article from English to zh-hant-tw.'},\n",
    "        {'role':'assistant', 'content':'Ok, I am a professional translator from English to zh-hant-tw.'}\n",
    "        ]\n",
    "        \n",
    "        messages.append({'role':'user', 'content':f\"\"\"\n",
    "        You are being provided a part of html code of an article, it is most likely a part of technology column, \\\n",
    "        but some times it will be something other than that, the content of the html is delimited in three backtrips below.\n",
    "        \n",
    "        The text you translate will be concat to other translated passage, \\\n",
    "        so make sure output the raw markdown text \"only\", \"without\" any other \\\n",
    "        content or original html code.\n",
    "        \n",
    "        You have to:\n",
    "        1. Extract the passage from html code, remember, the passage might seems being cut in half, which is totally normal.\n",
    "        2. Translate the passage into zh-hant-TW.\n",
    "        3. Format the translated passage into markdown format with proper syntax highlighting.\n",
    "       \n",
    "        part of the passage: {i+1} / {length}\n",
    "        content: ```{chunk}```\n",
    "        \"\"\"\n",
    "        })\n",
    "        \n",
    "        response = get_completion_from_messages(messages, temperature=0)\n",
    "        translated.append(response)    \n",
    "    \n",
    "    return translated"
   ]
  },
  {
   "cell_type": "code",
   "execution_count": null,
   "id": "83926fba-3168-4641-a373-9629bd8a1df4",
   "metadata": {},
   "outputs": [],
   "source": [
    "translated = translate_article('.\\\\0502.html')\n",
    "text = ''.join(translated)\n",
    "write_to_markdown(text)"
   ]
  },
  {
   "cell_type": "code",
   "execution_count": null,
   "id": "fd99bf2a-c661-493d-8549-a053f273661e",
   "metadata": {},
   "outputs": [],
   "source": []
  },
  {
   "cell_type": "code",
   "execution_count": null,
   "id": "e9735145-0aef-4de2-a506-260f13089e60",
   "metadata": {},
   "outputs": [],
   "source": []
  }
 ],
 "metadata": {
  "kernelspec": {
   "display_name": "Python 3 (ipykernel)",
   "language": "python",
   "name": "python3"
  },
  "language_info": {
   "codemirror_mode": {
    "name": "ipython",
    "version": 3
   },
   "file_extension": ".py",
   "mimetype": "text/x-python",
   "name": "python",
   "nbconvert_exporter": "python",
   "pygments_lexer": "ipython3",
   "version": "3.10.6"
  }
 },
 "nbformat": 4,
 "nbformat_minor": 5
}
