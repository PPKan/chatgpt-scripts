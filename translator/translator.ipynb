{
 "cells": [
  {
   "cell_type": "markdown",
   "id": "8b998a65-50bb-4d36-bde5-814d224587c1",
   "metadata": {
    "tags": []
   },
   "source": [
    "# Stratechery Translater"
   ]
  },
  {
   "cell_type": "markdown",
   "id": "0d2dc8a6-faac-4bde-9fe6-97a5507e5974",
   "metadata": {},
   "source": [
    "## Read Stratechery file"
   ]
  },
  {
   "cell_type": "code",
   "execution_count": 41,
   "id": "933ac893-ce83-46a7-9424-4de2b256a258",
   "metadata": {
    "tags": []
   },
   "outputs": [],
   "source": [
    "import sys\n",
    "\n",
    "def get_file_name():\n",
    "    # Check the number of command-line arguments\n",
    "    if len(sys.argv) != 2:\n",
    "        print(\"使用方法： python3 myscript.py <filename.html>\")\n",
    "        print(\"範例： python3 myscript.py example.html\")\n",
    "        sys.exit()\n",
    "\n",
    "    # Get the first command-line argument\n",
    "    filename = sys.argv[1]\n",
    "\n",
    "    # Check if the argument is an HTML file\n",
    "    if not filename.endswith('.html'):\n",
    "        print(\"錯誤：檔案必須是.html檔案\")\n",
    "        sys.exit()\n",
    "\n",
    "    return filename"
   ]
  },
  {
   "cell_type": "code",
   "execution_count": 27,
   "id": "9a58cccb-100c-4323-ade5-28767c6f9e79",
   "metadata": {
    "tags": []
   },
   "outputs": [],
   "source": [
    "from bs4 import BeautifulSoup\n",
    "\n",
    "def get_article_tag(html):\n",
    "    soup = BeautifulSoup(html, 'lxml')\n",
    "\n",
    "    article_tag = soup.find('article')\n",
    "\n",
    "    return str(article_tag)\n",
    "\n",
    "def insert_modified_article_tag(html, modified_article_tag):\n",
    "    soup = BeautifulSoup(html, 'lxml')\n",
    "\n",
    "    original_article_tag = soup.find('article')\n",
    "    if original_article_tag:\n",
    "        new_article_tag = BeautifulSoup(modified_article_tag, 'lxml').article\n",
    "        if new_article_tag:\n",
    "            original_article_tag.replace_with(new_article_tag)\n",
    "\n",
    "    return str(soup)"
   ]
  },
  {
   "cell_type": "code",
   "execution_count": 28,
   "id": "f06ceb8a-82dd-492e-b33a-ef17dc5906e5",
   "metadata": {
    "tags": []
   },
   "outputs": [],
   "source": [
    "def read_html_file(file_path):\n",
    "    with open(file_path, 'r', encoding='utf-8') as post_file:\n",
    "        whole_html = post_file.read()\n",
    "    return whole_html"
   ]
  },
  {
   "cell_type": "code",
   "execution_count": 42,
   "id": "ce317d1e-fba4-495d-b2ee-d9ff01be5cf5",
   "metadata": {
    "tags": []
   },
   "outputs": [
    {
     "name": "stdout",
     "output_type": "stream",
     "text": [
      "使用方法： python3 myscript.py <filename.html>\n",
      "範例： python3 myscript.py example.html\n"
     ]
    },
    {
     "ename": "SystemExit",
     "evalue": "",
     "output_type": "error",
     "traceback": [
      "An exception has occurred, use %tb to see the full traceback.\n",
      "\u001b[1;31mSystemExit\u001b[0m\n"
     ]
    },
    {
     "name": "stderr",
     "output_type": "stream",
     "text": [
      "C:\\Users\\Peter\\.pyenv\\pyenv-win\\versions\\3.11.3\\Lib\\site-packages\\IPython\\core\\interactiveshell.py:3516: UserWarning: To exit: use 'exit', 'quit', or Ctrl-D.\n",
      "  warn(\"To exit: use 'exit', 'quit', or Ctrl-D.\", stacklevel=1)\n"
     ]
    }
   ],
   "source": [
    "file_path = get_file_name()\n",
    "whole_html = read_html_file(file_path)\n",
    "# print(whole_html)"
   ]
  },
  {
   "cell_type": "markdown",
   "id": "a20e0916-c70c-4cb6-afe3-8a536cabb558",
   "metadata": {},
   "source": [
    "## Extract article tag from the html"
   ]
  },
  {
   "cell_type": "code",
   "execution_count": 30,
   "id": "53611d26-bb3b-4ef9-8d9f-b6d6c97d33e2",
   "metadata": {
    "tags": []
   },
   "outputs": [],
   "source": [
    "article_tag = get_article_tag(whole_html)\n",
    "\n",
    "# # Test function for testing the insert functionality\n",
    "\n",
    "# from IPython.display import display, HTML\n",
    "\n",
    "# with open('.\\\\0502.html', 'r', encoding='utf-8') as f:\n",
    "#     html = f.read()\n",
    "#     output = insert_modified_article_tag(html, translated)\n",
    "#     display(HTML(output))"
   ]
  },
  {
   "cell_type": "markdown",
   "id": "1870a307-144d-4907-b739-99aba87e3dd7",
   "metadata": {},
   "source": [
    "## Apply the article tag to chatGPT to translate"
   ]
  },
  {
   "cell_type": "markdown",
   "id": "087c1b2d-c3d4-48ed-ac77-a74e7e6c3d3a",
   "metadata": {},
   "source": [
    "### Import openai library and basic functions"
   ]
  },
  {
   "cell_type": "code",
   "execution_count": 31,
   "id": "cd62c3a6-e72d-424f-add2-e6eab4add7e2",
   "metadata": {
    "tags": []
   },
   "outputs": [],
   "source": [
    "import os\n",
    "import openai\n",
    "from dotenv import load_dotenv, find_dotenv\n",
    "_ = load_dotenv(find_dotenv()) # read local .env file\n",
    "\n",
    "openai.api_key  = os.getenv('OPENAI_API_KEY')"
   ]
  },
  {
   "cell_type": "code",
   "execution_count": 32,
   "id": "5e45f060-82c0-473e-865f-ab33beaf5887",
   "metadata": {
    "tags": []
   },
   "outputs": [],
   "source": [
    "def get_completion(prompt, model=\"gpt-3.5-turbo\"):\n",
    "    messages = [{\"role\": \"user\", \"content\": prompt}]\n",
    "    response = openai.ChatCompletion.create(\n",
    "        model=model,\n",
    "        messages=messages,\n",
    "        temperature=0, # this is the degree of randomness of the model's output\n",
    "    )\n",
    "    return response.choices[0].message[\"content\"]\n",
    "\n",
    "def get_completion_from_messages(messages, model=\"gpt-3.5-turbo\", temperature=0):\n",
    "    response = openai.ChatCompletion.create(\n",
    "        model=model,\n",
    "        messages=messages,\n",
    "        temperature=temperature, # this is the degree of randomness of the model's output\n",
    "    )\n",
    "#     print(str(response.choices[0].message))\n",
    "    return response.choices[0].message[\"content\"]"
   ]
  },
  {
   "cell_type": "markdown",
   "id": "093b85e2-a5e0-4424-9fd2-20f8abe71bb5",
   "metadata": {},
   "source": [
    "### main functions to interact with chatgpt api to translate the html"
   ]
  },
  {
   "cell_type": "code",
   "execution_count": 33,
   "id": "2018d54c-25d6-4925-a616-e06a290dcab4",
   "metadata": {
    "tags": []
   },
   "outputs": [],
   "source": [
    "def read_string_in_chunks(input_string, chunk_size=3500):\n",
    "    for i in range(0, len(input_string), chunk_size):\n",
    "        yield input_string[i:i + chunk_size]\n",
    "\n",
    "def process_with_chatgpt_api(chunk, chatgpt_api_func):\n",
    "    # Here you would call your chatgpt api function with the chunk as input.\n",
    "    response = chatgpt_api_func(chunk)\n",
    "    return response"
   ]
  },
  {
   "cell_type": "code",
   "execution_count": 34,
   "id": "e583286c-f30e-47a7-aaa6-a45483106bcc",
   "metadata": {
    "tags": []
   },
   "outputs": [],
   "source": [
    "def translate_article(article_tag):\n",
    "    chunks = list(read_string_in_chunks(article_tag))\n",
    "    length = len(chunks)\n",
    "    \n",
    "    translated = []\n",
    "    for i, chunk in enumerate(chunks):\n",
    "        \n",
    "        messages =  [  \n",
    "        {'role':'system', 'content':'You are an technology article professional translater at translating article from English to zh-hant-tw.'},\n",
    "        {'role':'assistant', 'content':'Ok, I am a professional translator from English to zh-hant-tw.'}\n",
    "        ]\n",
    "        \n",
    "        messages.append({'role':'user', 'content':f\"\"\"\n",
    "        You are being provided a part of html code of an article, it is most likely a part of technology column, \\\n",
    "        but some times it will be something other than that, the content of the html is delimited in three backticks below.\n",
    "        \n",
    "        The text you translate will be concat to other translated passage, \\\n",
    "        so make sure to output the full text containing original html code, \\\n",
    "        and do not quote in three backticks.\n",
    "        \n",
    "        You have to:\n",
    "        1. Read through the html code, remember, the passage might seems being cut in half, which is totally normal.\n",
    "        2. Translate the article inside into zh-hant-TW.\n",
    "        3. Rewrite the translated article to make it more readible for ZH-HANT-TW reader \\\n",
    "        by changing the word or the word sequence.\n",
    "        3. Output the translated html code without three backticks quoted.\n",
    "       \n",
    "        part of the passage: {i+1} / {length}\n",
    "        content: ```{chunk}```\n",
    "        \"\"\"\n",
    "        })\n",
    "        \n",
    "        response = get_completion_from_messages(messages, temperature=0)\n",
    "        translated.append(response)    \n",
    "    \n",
    "    return translated"
   ]
  },
  {
   "cell_type": "code",
   "execution_count": 35,
   "id": "d6d77a68-d527-4427-9461-9414643ef32d",
   "metadata": {
    "tags": []
   },
   "outputs": [],
   "source": [
    "translated_array = translate_article(article_tag)"
   ]
  },
  {
   "cell_type": "markdown",
   "id": "c5433e0d-c5a5-4e53-9982-8c501d909908",
   "metadata": {},
   "source": [
    "### Parse the array (trimming the unnecessary line break and backticks)"
   ]
  },
  {
   "cell_type": "code",
   "execution_count": 36,
   "id": "56d82e0a-03ae-4c29-9b7f-6bbd9dd83ef1",
   "metadata": {
    "tags": []
   },
   "outputs": [],
   "source": [
    "def trim_strings(array):\n",
    "    return [\n",
    "        s[3:-3] if s.startswith('```') and s.endswith('```') else\n",
    "        s[2:-2] if s.startswith('\\n') and s.endswith('\\n') else\n",
    "        s\n",
    "        for s in array\n",
    "    ]"
   ]
  },
  {
   "cell_type": "code",
   "execution_count": 37,
   "id": "a4e3ac88-7177-445c-922f-e5b52132c543",
   "metadata": {
    "tags": []
   },
   "outputs": [],
   "source": [
    "trimmed_translated_array = trim_strings(translated_array)\n",
    "translated = ''.join(trimmed_translated_array)\n",
    "translated_html = insert_modified_article_tag(whole_html, translated)"
   ]
  },
  {
   "cell_type": "markdown",
   "id": "09cc282f-e5c3-4043-9d71-16cf45c9e8ed",
   "metadata": {},
   "source": [
    "### Output the function to a file"
   ]
  },
  {
   "cell_type": "code",
   "execution_count": 38,
   "id": "8e597d0a-06a1-4984-9eb3-cfc79ac40f00",
   "metadata": {
    "tags": []
   },
   "outputs": [],
   "source": [
    "from datetime import datetime\n",
    "\n",
    "def write_to_file(text, optional_name=\"\"):\n",
    "    \n",
    "    # Get the current date\n",
    "    current_date = datetime.now()\n",
    "\n",
    "    # Format the date as a string in the format \"yymmdd\"\n",
    "    date_string = current_date.strftime('%y%m%d')\n",
    "\n",
    "    # Create the filename\n",
    "    filename = f\"{date_string}-Stratechery{optional_name}.html\"\n",
    "\n",
    "    # Write the text to the file\n",
    "    with open(filename, 'w', encoding='utf-8') as f:\n",
    "        f.write(text)      "
   ]
  },
  {
   "cell_type": "code",
   "execution_count": 39,
   "id": "83926fba-3168-4641-a373-9629bd8a1df4",
   "metadata": {
    "tags": []
   },
   "outputs": [],
   "source": [
    "write_to_file(translated_html, 'fjsdalkfjksldaf')"
   ]
  },
  {
   "cell_type": "code",
   "execution_count": null,
   "id": "fd99bf2a-c661-493d-8549-a053f273661e",
   "metadata": {},
   "outputs": [],
   "source": []
  },
  {
   "cell_type": "code",
   "execution_count": null,
   "id": "e9735145-0aef-4de2-a506-260f13089e60",
   "metadata": {},
   "outputs": [],
   "source": []
  }
 ],
 "metadata": {
  "kernelspec": {
   "display_name": "Python 3 (ipykernel)",
   "language": "python",
   "name": "python3"
  },
  "language_info": {
   "codemirror_mode": {
    "name": "ipython",
    "version": 3
   },
   "file_extension": ".py",
   "mimetype": "text/x-python",
   "name": "python",
   "nbconvert_exporter": "python",
   "pygments_lexer": "ipython3",
   "version": "3.11.3"
  }
 },
 "nbformat": 4,
 "nbformat_minor": 5
}
