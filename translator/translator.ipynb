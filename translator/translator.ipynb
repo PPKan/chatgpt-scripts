{
 "cells": [
  {
   "cell_type": "markdown",
   "id": "8b998a65-50bb-4d36-bde5-814d224587c1",
   "metadata": {
    "tags": []
   },
   "source": [
    "# Stratechery Translater"
   ]
  },
  {
   "cell_type": "markdown",
   "id": "0d2dc8a6-faac-4bde-9fe6-97a5507e5974",
   "metadata": {},
   "source": [
    "## Read Stratechery file"
   ]
  },
  {
   "cell_type": "code",
   "execution_count": 1,
   "id": "933ac893-ce83-46a7-9424-4de2b256a258",
   "metadata": {
    "tags": []
   },
   "outputs": [],
   "source": [
    "import sys\n",
    "\n",
    "def get_file_name():\n",
    "    # Check the number of command-line arguments\n",
    "    if len(sys.argv) != 2:\n",
    "        print(\"使用方法： python3 myscript.py <filename.html>\")\n",
    "        print(\"範例： python3 myscript.py example.html\")\n",
    "        sys.exit()\n",
    "\n",
    "    # Get the first command-line argument\n",
    "    filename = sys.argv[1]\n",
    "\n",
    "    # Check if the argument is an HTML file\n",
    "    if not filename.endswith('.html'):\n",
    "        print(\"錯誤：檔案必須是.html檔案\")\n",
    "        sys.exit()\n",
    "\n",
    "    return filename"
   ]
  },
  {
   "cell_type": "code",
   "execution_count": 2,
   "id": "9a58cccb-100c-4323-ade5-28767c6f9e79",
   "metadata": {
    "tags": []
   },
   "outputs": [],
   "source": [
    "\n",
    "\n"
   ]
  },
  {
   "cell_type": "code",
   "execution_count": 3,
   "id": "f06ceb8a-82dd-492e-b33a-ef17dc5906e5",
   "metadata": {
    "tags": []
   },
   "outputs": [],
   "source": [
    "def read_html_file(file_path):\n",
    "    with open(file_path, 'r', encoding='utf-8') as post_file:\n",
    "        whole_html = post_file.read()\n",
    "    return whole_html"
   ]
  },
  {
   "cell_type": "code",
   "execution_count": 5,
   "id": "ce317d1e-fba4-495d-b2ee-d9ff01be5cf5",
   "metadata": {
    "tags": []
   },
   "outputs": [],
   "source": [
    "# file_path = get_file_name()\n",
    "file_path = '0504.html'\n",
    "whole_html = read_html_file(file_path)\n",
    "# print(whole_html)"
   ]
  },
  {
   "cell_type": "markdown",
   "id": "a20e0916-c70c-4cb6-afe3-8a536cabb558",
   "metadata": {},
   "source": [
    "## Extract article tag from the html"
   ]
  },
  {
   "cell_type": "code",
   "execution_count": null,
   "id": "7499380c-ea7f-41d6-b12e-648c0fd6707a",
   "metadata": {},
   "outputs": [],
   "source": [
    "from bs4 import BeautifulSoup\n",
    "\n",
    "def get_article_tag(html):\n",
    "    soup = BeautifulSoup(html, 'lxml')\n",
    "\n",
    "    article_tag = soup.find('article')\n",
    "\n",
    "    return str(article_tag)"
   ]
  },
  {
   "cell_type": "code",
   "execution_count": 6,
   "id": "53611d26-bb3b-4ef9-8d9f-b6d6c97d33e2",
   "metadata": {
    "tags": []
   },
   "outputs": [],
   "source": [
    "article_tag = get_article_tag(whole_html)\n",
    "\n",
    "# # Test function for testing the insert functionality\n",
    "\n",
    "# from IPython.display import display, HTML\n",
    "\n",
    "# with open('.\\\\0502.html', 'r', encoding='utf-8') as f:\n",
    "#     html = f.read()\n",
    "#     output = insert_modified_article_tag(html, translated)\n",
    "#     display(HTML(output))"
   ]
  },
  {
   "cell_type": "markdown",
   "id": "1870a307-144d-4907-b739-99aba87e3dd7",
   "metadata": {},
   "source": [
    "## Apply the article tag to chatGPT to translate"
   ]
  },
  {
   "cell_type": "markdown",
   "id": "087c1b2d-c3d4-48ed-ac77-a74e7e6c3d3a",
   "metadata": {},
   "source": [
    "### Import openai library and basic functions"
   ]
  },
  {
   "cell_type": "code",
   "execution_count": 7,
   "id": "cd62c3a6-e72d-424f-add2-e6eab4add7e2",
   "metadata": {
    "tags": []
   },
   "outputs": [],
   "source": [
    "import os\n",
    "import openai\n",
    "from dotenv import load_dotenv, find_dotenv\n",
    "_ = load_dotenv(find_dotenv()) # read local .env file\n",
    "\n",
    "openai.api_key  = os.getenv('OPENAI_API_KEY')"
   ]
  },
  {
   "cell_type": "code",
   "execution_count": 8,
   "id": "5e45f060-82c0-473e-865f-ab33beaf5887",
   "metadata": {
    "tags": []
   },
   "outputs": [],
   "source": [
    "def get_completion(prompt, model=\"gpt-3.5-turbo\"):\n",
    "    messages = [{\"role\": \"user\", \"content\": prompt}]\n",
    "    response = openai.ChatCompletion.create(\n",
    "        model=model,\n",
    "        messages=messages,\n",
    "        temperature=0, # this is the degree of randomness of the model's output\n",
    "    )\n",
    "    return response.choices[0].message[\"content\"]\n",
    "\n",
    "def get_completion_from_messages(messages, model=\"gpt-3.5-turbo\", temperature=0):\n",
    "    response = openai.ChatCompletion.create(\n",
    "        model=model,\n",
    "        messages=messages,\n",
    "        temperature=temperature, # this is the degree of randomness of the model's output\n",
    "    )\n",
    "#     print(str(response.choices[0].message))\n",
    "    return response.choices[0].message[\"content\"]"
   ]
  },
  {
   "cell_type": "markdown",
   "id": "093b85e2-a5e0-4424-9fd2-20f8abe71bb5",
   "metadata": {},
   "source": [
    "### main functions to interact with chatgpt api to translate the html"
   ]
  },
  {
   "cell_type": "code",
   "execution_count": 9,
   "id": "2018d54c-25d6-4925-a616-e06a290dcab4",
   "metadata": {
    "tags": []
   },
   "outputs": [],
   "source": [
    "def read_string_in_chunks(input_string, chunk_size=3500):\n",
    "    for i in range(0, len(input_string), chunk_size):\n",
    "        yield input_string[i:i + chunk_size]\n",
    "\n",
    "def process_with_chatgpt_api(chunk, chatgpt_api_func):\n",
    "    # Here you would call your chatgpt api function with the chunk as input.\n",
    "    response = chatgpt_api_func(chunk)\n",
    "    return response"
   ]
  },
  {
   "cell_type": "code",
   "execution_count": 10,
   "id": "e583286c-f30e-47a7-aaa6-a45483106bcc",
   "metadata": {
    "tags": []
   },
   "outputs": [],
   "source": [
    "def translate_article(article_tag):\n",
    "    chunks = list(read_string_in_chunks(article_tag))\n",
    "    length = len(chunks)\n",
    "    \n",
    "    translated = []\n",
    "    for i, chunk in enumerate(chunks):\n",
    "        \n",
    "        messages =  [  \n",
    "        {'role':'system', 'content':'You are an technology article professional translater at translating article from English to zh-hant-tw.'},\n",
    "        {'role':'assistant', 'content':'Ok, I am a professional translator from English to zh-hant-tw.'}\n",
    "        ]\n",
    "        \n",
    "        messages.append({'role':'user', 'content':f\"\"\"\n",
    "        You are being provided a part of html code of an article, it is most likely a part of technology column, \\\n",
    "        but some times it will be something other than that, the content of the html is delimited in three backticks below.\n",
    "        \n",
    "        The text you translate will be concat to other translated passage, \\\n",
    "        so make sure to output the full text containing original html code, \\\n",
    "        and do not quote in three backticks.\n",
    "        \n",
    "        You have to:\n",
    "        1. Read through the html code, remember, the passage might seems being cut in half, which is totally normal.\n",
    "        2. Translate the article inside into zh-hant-TW.\n",
    "        3. Rewrite the translated article to make it more readible for ZH-HANT-TW reader \\\n",
    "        by changing the word or the word sequence.\n",
    "        3. Output the translated html code without three backticks quoted.\n",
    "       \n",
    "        part of the passage: {i+1} / {length}\n",
    "        content: ```{chunk}```\n",
    "        \"\"\"\n",
    "        })\n",
    "        \n",
    "        response = get_completion_from_messages(messages, temperature=0)\n",
    "        translated.append(response)    \n",
    "    \n",
    "    return translated"
   ]
  },
  {
   "cell_type": "code",
   "execution_count": 11,
   "id": "d6d77a68-d527-4427-9461-9414643ef32d",
   "metadata": {
    "tags": []
   },
   "outputs": [],
   "source": [
    "translated_array = translate_article(article_tag)"
   ]
  },
  {
   "cell_type": "markdown",
   "id": "c5433e0d-c5a5-4e53-9982-8c501d909908",
   "metadata": {},
   "source": [
    "## Parse the array (trimming the unnecessary line break and backticks)"
   ]
  },
  {
   "cell_type": "markdown",
   "id": "6ac1bc84-8a99-462b-8470-566654adc18b",
   "metadata": {},
   "source": [
    "### Trim the backticks and linebreaks"
   ]
  },
  {
   "cell_type": "code",
   "execution_count": 21,
   "id": "56d82e0a-03ae-4c29-9b7f-6bbd9dd83ef1",
   "metadata": {
    "tags": []
   },
   "outputs": [],
   "source": [
    "def trim_strings(array):\n",
    "    return [\n",
    "        s.lstrip('`\\n').rstrip('`\\n')\n",
    "        for s in array\n",
    "    ]"
   ]
  },
  {
   "cell_type": "code",
   "execution_count": 22,
   "id": "a4e3ac88-7177-445c-922f-e5b52132c543",
   "metadata": {
    "tags": []
   },
   "outputs": [
    {
     "name": "stdout",
     "output_type": "stream",
     "text": [
      "['<article class=\"post-10915 post type-post status-publish format-standard hentry category-daily-email topics-ai-machine-learning topics-app-tracking-transparency-att topics-earnings topics-events topics-messaging topics-networks topics-open-source topics-social concepts-advertising concepts-business-models companies-facebook companies-meta\" id=\"post-10915\">\\n<header class=\"entry-header\">\\n<h1 class=\"entry-title\">Facebook收益、生成式人工智慧和消息盈利、開放原始碼和人工智慧</h1>\\n<div class=\"entry-meta\">\\n<span class=\"posted-on\"><span class=\"screen-reader-text\">發佈於</span><time class=\"entry-date published\" datetime=\"2023-05-03T05:24:12-07:00\">2023年5月3日星期三</time><time class=\"updated\" datetime=\"2023-05-03T08:58:18-07:00\">2023年5月3日星期三</time></span> <span class=\"byline\"><span class=\"author vcard\"><span class=\"screen-reader-text\">作者</span>作者：<a class=\"url fn n\" href=\"https://stratechery.com/author/stratechery/\">本·湯普森</a></span></span> </div><!-- .entry-meta -->\\n</header><!-- .entry-header -->\\n<div class=\"entry-content\">\\n<p>早安，</p>\\n<p>在<a href=\"https://sharptech.fm/member/episode/whats-the-deal-with-micropayments-costs-and-benefits-and-twitter-blue-more-thoughts-on-microsoft-activision\">週一的Sharp Tech</a>中，我們討論了為什麼我一直對微支付持懷疑態度，包括Twitter在這個領域的計劃。</p>\\n<p>與此同時，<a href=\"https://sharpchina.fm/member/episode/the-lu-snafu-a-broadened-espionage-act-chinas-own-regional-banking-crisis-a-beginners-guide-to-the-taiwan-status-quo\">Sharp China</a>討論了盧沙野大使在歐盟的煽動性言論，而<a href=\"https://goat.passport.online/member/episode/beam-heartbreak-and-steph-nirvana-nuggets-give-the-suns-a-reality-check-maybe-the-heat-will-never-lose-again\">Greatest of All Talk</a>繼續成為持續進行中的NBA季後賽的主要來源。</p>\\n<p>您可以通過上面的鏈接收聽這些播客，或使用本電子郵件底部的鏈接將它們添加到您的播客播放器中。</p>\\n<p>接下來是更新：</p>\\n<h3>Facebook收益</h3>\\n<p>來自<a href=\"https://www.wsj.com/articles/meta-platforms-q1-earnings-report-2023-aa820bcd\">華爾街日報</a>：</p>\\n<blockquote><p>\\n  Facebook母公司Meta Platforms Inc.周三報告稱，由於廣告業務持續改善，公司首次實現了近一年的銷售增長，而公司在首席執行官馬克·扎克伯格所稱的“效率年”期間繼續削減支出。扎克伯格先生將其中一些收益歸因於Reels，該公司的短片視頻產品。扎克伯格表示，Reels正在增加整個應用程式的參與度，而該公司認為它正在在短片視頻市場上獲得份額…</p>\\n<p>  該公司報告了286億美元的收入，比去年同期增長3％，超出FactSet調查的分析師預期的近277億美元。這打破了Meta收入自2012年上市以來三個季度從去年同期下降的紀錄。股票在盤後交易中大漲逾12％，因為該公司還預測第二季度收入可能達到320億美元。</p>\\n</blockquote>\\n<p>我知道我有點晚報告這些收益，但坦白地說，我已經在六個月前的<a href=\"https://stratechery.com/2022/meta-myths/\">Meta Myths</a>中涵蓋了它們；為了回顧，我們可以看到Meta的收入已經恢復增長。</p>', 'w:</p>\\n<p><strong>迷思1：用戶正在離開Facebook</strong> — 實際上，Meta在每個市場上都有顺序增加的用戶，超过了30亿的日活跃用户标志（我会注意到首席财务官Susan Li回避了有关Facebook应用程序整体参与度的问题）。</p>\\n<p><strong>迷思2：Instagram的参与度正在下降</strong> — 实际上，由于Reels参与度的增加，Instagram的参与度继续激增。值得注意的是，正是这种增加的参与度驱动了Meta的乐观情绪，认为Reels到年底将实现收支平衡；是的，它们会占用Feed和Stories的时间，而这些内容的变现效率更高，因为用户可以更快地滑动它们，但这就是用户花费更多时间与Reels互动的原因。</p>\\n<p><strong>迷思3：TikTok正在主导</strong> — 这种增加的Reels参与度并不是在真空中发生的：Meta认为他们正在夺取市场份额，我所看到的所有证据都表明确实如此。</p>\\n<p><strong>迷思4：广告正在消亡</strong> — 显然不是这样。实际上，可以说Meta在很长一段时间内拥有了单一最显著的广告季度。以下是我多年来一直在Facebook收益更新中引用的图表：</p>\\n<p><img alt=\"Facebook关键广告指标的增长率\" class=\"aligncenter size-full wp-image-10916\" data-recalc-dims=\"1\" decoding=\"async\" height=\"292\" sizes=\"(max-width: 640px) 100vw, 640px\" src=\"https://i0.wp.com/stratechery.com/wp-content/uploads/2023/05/facebookearnings-1.png?resize=640%2C292&amp;ssl=1\" srcset=\"https://i0.wp.com/stratechery.com/wp-content/uploads/2023/05/facebookearnings-1.png?w=1280&amp;ssl=1 1280w, https://i0.wp.com/stratechery.com/wp-content/uploads/2023/05/facebookearnings-1.png?resize=300%2C137&amp;ssl=1 300w, https://i0.wp.com/stratechery.com/wp-content/uploads/2023/05/facebookearnings-1.png?resize=1024%2C467&amp;ssl=1 1024w, https://i0.wp.com/stratechery.com/wp-content/uploads/2023/05/facebookearnings-1.png?resize=768%2C350&amp;ssl=1 768w, https://i0.wp.com/stratechery.com/wp-content/uploads/2023/05/facebookearnings-1.png?resize=1200%2C548&amp;ssl=1 1200w\" width=\"640\"/></p>\\n<p>简要回顾一下我为什么关注这张图表，有三种方法可以增加广告收入：</p>\\n<ol>\\n<li>增加用户数量</li>\\n<li>增加每个用户看到的广告数量</li>\\n<li>增加广告主支付的每个广告的价格</li>\\n</ol>\\n<p>用户数量对于Meta来说并没有太大的影响，至少与十年前相比如此，尽管如上所述，用户数量确实在继续增加，但主要是在世界上收入较低的地区。</p>\\n<p>每个用户看到的广告数量可以通过人为或自然的方式增加。人为增加的方式是增加广告负载；Meta在2017年停止了这样做，这就是为什么印象增长率开始下降的原因。另一方面，自然增长可以通过增加参与度（从而提供更多展示广告的机会）和/或增加表面积来实现；后者的一个例子是Stories，它在2018年重新加速了印象增长。</p>\\n<p>每个广告的价格 — 记住，是由拍卖设置的，而不是Meta本身 — 也可以通过两种方式增加：首先，Meta可以更好地定位广告，增加广告主的广告投资回报率（ROAS），提高他们的支付意愿。然而，由于这些价格是在拍卖中设定的，因此更重要的是，广告主之间的竞争会推高价格。</p>', '廣告價格的一個重要驅動因素是可用的曝光次數。這就是為什麼每當曝光次數增加時 - 例如當故事功能開始流行時，或最近Reels的增加 - 每個廣告的價格就會下降，反之亦然。</p>\\n<p>但需要注意的是，上一季度這種聯繫明顯減弱了：多年來，曝光增長的連續變化 - 從23%到26% - 和廣告價格增長的連續變化 - 從-22%到-17% - 同時朝著同一個方向移動。換句話說，Meta增加了曝光次數，而雖然廣告價格下降了，但它們下降的幅度比曝光增長所預期的要小。</p>\\n<p>這是CFO Susan Li提到百分比的<a href=\"https://s21.q4cdn.com/399680738/files/doc_financials/2023/q1/META-Q1-2023-Earnings-Call-Transcript.pdf\">盈利電話</a>的一部分：</p>\\n<blockquote><p>\\n  在第一季度，我們服務的廣告曝光次數總計增加了26％，平均廣告價格下降了17％。曝光增長主要由亞太地區和其他地區推動。年度價格下降主要由強勁的曝光增長，特別是來自低價值表面和地區的曝光增長，外幣貶值和較低的廣告需求所推動。儘管整體價格仍受到這些因素的壓力，但我們認為我們持續改進廣告定位和測量，正在為廣告商帶來改善的結果。\\n</p></blockquote>\\n<p>多年來，Meta以低估其業務實力而聞名：該公司非常擅長在一次電話中傾銷所有壞消息，提供令人失望的預測，然後在接下來的幾年中超越該預測。這種評論是其中的一部分！Li根本沒有提到這種衍生品的分歧，而且在電話中的任何分析師都沒有問她。然而，最後一句話幾乎肯定解釋了正在發生的事情：Meta已經破解了廣告定位的後ATT代碼。</p>\\n<p><strong>迷思5：Meta的支出是浪費</strong> - CEO Mark Zuckerberg表示，由於AI，Meta的盈利能力得到了提高，而AI的建設是Meta增加資本支出的最大因素：</p>\\n<blockquote><p>\\n  我們的AI工作也正在改善盈利能力。 Instagram上的Reels盈利效率季度環比增長超過30％，Facebook上的Reels盈利效率季度環比增長超過40％。 Advantage +購物活動的每日收入在過去六個月中增加了7倍。\\n</p></blockquote>\\n<p>不用說，這種支出不是浪費；實際上，我在那篇文章中主張這將使Meta變得更加強大：</p>\\n<blockquote><p>\\n  最後一點可能是最重要的：ATT對Meta的影響比其他任何公司都更大，因為它已經擁有遠超其他公司的最大且最精細調的廣告業務，但從長遠來看，它應該加深Meta的壕溝。這種投資水平對於像Snap或Twitter或數字廣告中的其他落後者來說根本不可行（即使超出了Snap依賴雲提供商而不是自己的數據中心的事實）；當您將Meta的廣告定位很可能開始脫穎而出（除了Google之外），並將Reels帶來的大量庫存增加（降低價格）時，任何廣告商都會想知道為什麼要去其他地方。</p></blockquote>\\n<p>值得注意的是，即使YouTube的收入下降，Meta的收入也有所增加；</p>', '鑑於YouTube是Google業務中最容易受到ATT影響的部分，這種命運的轉變似乎很值得注意。而Snap則<a href=\"https://www.cnbc.com/2023/04/27/snap-q1-earnings-report-2023.html\">再次錯失收入</a>，導致其市值跌至130億美元。Meta受到了蘋果的重創，但顯然該公司不僅幸存下來，而且可能比以往任何時候都更強大，特別是在競爭地位方面。\\n\\n這帶出了我認為最令人震驚的收益電話的部分；我通常不會挑剔分析師，但這個問題讓我困惑：\\n\\n「Mark，這個問題有點哲學，但如果我們比較Meta今天在IDFA cookie淘汰之前的世界中的相對競爭地位，考慮到所有這些技術整合和AI工具，你如何看待數字廣告的相對競爭地位？因為我認為普遍觀點是，隱私會使競爭更加公平，但顯然並非如此。」\\n\\n如果我說過一次，我就說過一百萬次：隱私不會使競爭更加公平；實際上，它的作用正好相反，就像印象和每廣告價格之間的關係一樣。隱私限制越多，最具支配地位的玩家擁有的第一方數據越多，越有能力繞過限制，他們的優勢就越大。這在歐洲的GDPR中是這樣，在ATT中也是這樣，我很難理解人們仍然認為它會有其他結果。是的，最大的玩家在絕對基礎上感受到最大的痛苦，但那是因為他們很大；他們相對於競爭對手的位置最終變得更強，這在Meta的情況下顯然是如此。\\n\\n生成式AI和消息盈利\\n\\n這裡有兩個背景知識。首先，我最感興趣的生成式AI領域之一是其在廣告中的應用：Meta不必提供A/B測試的資產，而是可以為眾多群體生成圖像，對比測試無窮無盡，不僅基於定向，還基於內容提供個性化廣告。\\n\\n其次，去年Meta披露，其點擊到消息廣告業務（將潛在客戶直接連接到WhatsApp和Messenger中的廣告商）正在以100億美元的年收入運行（Meta沒有更新該數字，但Li表示上一季度繼續增長）。\\n\\n有趣的是將這兩件事結合起來的潛力；在回答有關生成式AI對Meta廣告業務的影響的問題時，扎克伯格說：\\n\\n「我還認為，一些AI代理和消息傳遞以及商業消息之間會有一個非常有趣的融合，現在我們看到商業消息最成功的地方，是那些很多企業可以負擔基本上讓人們回答很多問題並在聊天中與他們互動的地方。顯然，一旦你啟用了數千萬小企業代理人代表他們行事的能力，你將有更多的企業能夠負擔與客戶聊天的人。所以我認為這也可能是一個相當大的機會。」\\n\\n簡而言之，這種消息廣告', '更好的是，如果你有人可以聊天，那麼它的效果會更好；大型語言模型意味著很快每個企業都能夠提供這樣的功能。</p>\\n<h3>開源和人工智慧</h3>\\n<p>扎克伯格在他的演講中強調了開源：</p>\\n<blockquote><p>\\n  現在，大多數正在訓練大型語言模型的公司都有導致他們採用封閉式開發方法的商業模式。我認為有一個重要的機會可以幫助創建一個開放的生態系統。如果我們能夠幫助成為其中的一部分，那麼整個行業將標準化使用這些開放工具並進一步改進它們。這將使其他公司更容易與我們的產品和平台集成，隨著我們實現更多的集成，這將有助於我們的產品保持領先地位。</p>\\n<p>  我們對人工智慧和基礎設施的方法一直相當開放。我們開源了許多最先進的模型，讓人們可以進行實驗和構建。本季度，我們向研究人員發布了LLaMa LLM。它有650億個參數，但表現優於更大的模型，並且已經被證明非常受歡迎。我們還開源了其他三個開創性的視覺模型以及它們的訓練數據和模型權重——Segment Anything、DinoV2和我們的Animated Drawings工具——我們對所有這些都得到了積極的反饋。\\n</p></blockquote>\\n<p>LLaMa並不是真正的開源，它不能用於商業應用，但正如我在今年早些時候的一次更新中所詳細介紹的那樣，它的可用性引發了實驗和創新的爆發，特別是在本地運行LLM方面。扎克伯格是在暗示Meta的一些模型真正開源嗎？</p>\\n<p>扎克伯格在問答環節中進一步闡述了開源的觀點：</p>\\n<blockquote><p>\\n  我認為我們提供的產品和我們撰寫的許多技術基礎設施之間有一個重要的區別，特別是支持它們的軟件。從歷史上看，無論是我們所做的開放計算項目還是僅僅是開源我們構建的許多基礎設施，我們在歷史上都開源了許多這些基礎設施，即使我們沒有開源我們核心產品的代碼或任何其他東西。</p>\\n<p>  我認為我們這樣做的原因是，與空間中的其他一些公司不同，我們不是在銷售雲計算服務，我們試圖保持不同的軟件基礎設施專有。對我們來說，如果行業標準化使用我們正在使用的基本工具，那麼這將更好，因此我們可以從其他人的改進中受益，而其他人使用這些工具的情況下，有時可以降低這些東西的成本，這使我們的業務更加高效。因此，我認為在基礎設施方面，我們只是在玩一個與Google、Microsoft或Amazon等公司不同的遊戲，這創造了不同的激勵因素。</p>\\n</blockquote>\\n<p>Meta一直非常擅長在基礎設施方面追求“商品化你的補充品”策略；這正是這種策略的表述。Meta的價值在於其網絡和應用程序；在價值鏈的任何其他地方尋求某種形式的差異化是不利的，事實上，最好的結果是行業最終以Meta的基礎設施為標準。', '「Meta」正在開源模型，這是由 Facebook 創辦人馬克·扎克伯格在一次採訪中透露的。他表示，Meta 將會開源一些低層級的模型和工具，以降低 Meta 的成本。扎克伯格還說，Meta 將會推動並協助建立一個開放的生態系統，這對於 Meta 來說非常重要。他提到了 PyTorch 和 Open Compute 這兩個模型，這些模型已經成為了業界的標準工具，Meta 希望能夠將這些模型開源，讓更多的開發者能夠使用這些工具，並且能夠更好地與社區進行整合。扎克伯格還表示，Meta 的產品工作本身將會是具體和整合的，並不是所有的工作都會開源。但是，Meta 將會開源一些基本模型，以幫助建立一個開放的生態系統。', 'PyTorch 是一個非常重要的開源基礎架構工具，Meta 成功地將其開源，使整個行業受益，進而使 Meta 受益。</p>\\n<p>其次，注意到“隨著時間的推移，使我們運行所有這些基礎架構的方式更加高效”的詞語。正如我所指出的，這是 LLaMA 可用性的最大成果，而 AI 模型高效運行的最大潛在受益者將是 Meta：Li 在<a href=\"https://s21.q4cdn.com/399680738/files/doc_financials/2023/q1/META-Q1-2023-Follow-Up-Call-Transcript.pdf\">跟進電話會議</a>中提到的一點是，Meta 所有的資本支出都是用於 AI 訓練；將 AI 納入用戶或廣告面向也將需要支出推理能力，考慮到 Meta 的用戶基數和持續的推理需求，這將是更加昂貴的。這意味著沒有任何公司比 Meta 從提高效率中受益更多，而能夠在本地運行模型將是一個完全改變遊戲規則的因素，因為 Meta 將免費獲得推理能力。</p>\\n<p>第三，在最後一段中，扎克伯格指出 LLaMA 不是真正的開源，但他們仍然看到了這些收益，而 Meta“希望將其工作變得比那更加開放”。這讓我想知道扎克伯格是否認為 Meta 是少數幾家實際上可以使 AI 廣泛可用的公司之一，而這本身就是一個好事。我當然同意，並希望如此：我認為 AI 的潛在上行是巨大的，通過加速和加倍創新來應對即將到來的破壞是正確的方法。現在想要把 AI 放回瓶子裡是不可能的，但我仍然對一個反烏托邦的結局感到警惕，即 AI 只會落入少數公司和政府的手中，他們將聲稱這是為了我們的利益，即使通過最高科技版本的中央計劃，也會失去無數的潛在好處。</p>\\n<hr/>\\n<p>此更新將在今天稍晚作為播客提供。要在播客播放器中接收它，<a href=\"https://stratechery.passport.online/member\">請訪問 Stratechery</a>。</p>\\n<p>Stratechery 更新是為單個收件人而設計的，但偶爾轉發也沒有問題！如果您想為您的團隊訂購多個訂閱（最少 5 個）並獲得團體折扣，請直接與我聯繫。</p>\\n<p>感謝您的訂閱，祝您有美好的一天！</p>\\n<div class=\"sharedaddy sd-sharing-enabled\"><div class=\"robots-nocontent sd-block sd-social sd-social-icon-text sd-sharing\"><h3 class=\"sd-title\">分享</h3><div class=\"sd-content\"><ul><li class=\"share-facebook\"><a class=\"share-facebook sd-button share-icon\" data-shared=\"sharing-facebook-10915\" href=\"https://stratechery.com/2023/facebook-earnings-generative-ai-and-messaging-monetization-open-source-and-ai/?share=facebook\" rel=\"nofollow noopener noreferrer\" target=\"_blank\" title=\"在 Facebook 上分享\"><span>Facebook</span></a></li><li class=\"share-twitter\"><a class=\"share-twitter sd-button share-icon\" data-shared=\"sharing-twitter-10915\" href=\"https://stratechery.com/2023/facebook-earnings-generative-ai-and-messaging-monetization-open-source-and-ai/?share=twitter\" rel=\"nofollow noopener noreferrer\" target=\"_blank\" title=\"在 Twitter 上分享\"><span>Twitter</span></a></li><li class=\"share-linkedin\"><a class=\"share-linkedin sd-button share-icon\" data-shared=\"', 'sharing-linkedin-10915\" href=\"https://stratechery.com/2023/facebook-earnings-generative-ai-and-messaging-monetization-open-source-and-ai/?share=linkedin\" rel=\"nofollow noopener noreferrer\" target=\"_blank\" title=\"點擊分享至 LinkedIn\"><span>LinkedIn</span></a></li><li class=\"share-email\"><a class=\"share-email sd-button share-icon\" data-email-share-error-text=\"如果您無法透過電子郵件分享，可能是因為您的瀏覽器未設定電子郵件。您可能需要自行建立新的電子郵件。\" data-email-share-error-title=\"您是否已設定電子郵件？\" data-email-share-nonce=\"e708fcb31b\" data-email-share-track-url=\"https://stratechery.com/2023/facebook-earnings-generative-ai-and-messaging-monetization-open-source-and-ai/?share=email\" data-shared=\"\" href=\"mailto:?subject=%5BShared%20Post%5D%20Facebook%20Earnings%2C%20Generative%20AI%20and%20Messaging%20Monetization%2C%20Open%20Source%20and%20AI&amp;body=https%3A%2F%2Fstratechery.com%2F2023%2Ffacebook-earnings-generative-ai-and-messaging-monetization-open-source-and-ai%2F&amp;share=email\" rel=\"nofollow noopener noreferrer\" target=\"_blank\" title=\"點擊透過電子郵件寄送連結給朋友\"><span>電子郵件</span></a></li><li class=\"share-end\"></li></ul></div></div></div>\\n<div class=\"jp-relatedposts\" id=\"jp-relatedposts\">\\n<h3 class=\"jp-relatedposts-headline\"><em>相關文章</em></h3>\\n</div> </div><!-- .entry-content -->\\n</article>']\n"
     ]
    }
   ],
   "source": [
    "trimmed_translated_array = trim_strings(translated_array)\n",
    "print(trimmed_translated_array)"
   ]
  },
  {
   "cell_type": "markdown",
   "id": "e44ebf0b-b052-4a3e-8ffd-973b7abab768",
   "metadata": {},
   "source": [
    "### Transcribe them form simplified chinese to Traditional (just a quick double check)"
   ]
  },
  {
   "cell_type": "code",
   "execution_count": 23,
   "id": "1ea5d2c8-ec9c-4f0a-82d6-5b29561e2544",
   "metadata": {
    "tags": []
   },
   "outputs": [],
   "source": [
    "import opencc\n",
    "\n",
    "def simplified_to_traditional(simplified_strings):\n",
    "    converter = opencc.OpenCC('s2t.json')\n",
    "    traditional_strings = []\n",
    "\n",
    "    for string in simplified_strings:\n",
    "        traditional_string = converter.convert(string)\n",
    "        traditional_strings.append(traditional_string)\n",
    "\n",
    "    return traditional_strings"
   ]
  },
  {
   "cell_type": "code",
   "execution_count": 24,
   "id": "76593945-d90c-4fcf-b606-157325acfe30",
   "metadata": {
    "tags": []
   },
   "outputs": [
    {
     "name": "stdout",
     "output_type": "stream",
     "text": [
      "['<article class=\"post-10915 post type-post status-publish format-standard hentry category-daily-email topics-ai-machine-learning topics-app-tracking-transparency-att topics-earnings topics-events topics-messaging topics-networks topics-open-source topics-social concepts-advertising concepts-business-models companies-facebook companies-meta\" id=\"post-10915\">\\n<header class=\"entry-header\">\\n<h1 class=\"entry-title\">Facebook收益、生成式人工智慧和消息盈利、開放原始碼和人工智慧</h1>\\n<div class=\"entry-meta\">\\n<span class=\"posted-on\"><span class=\"screen-reader-text\">發佈於</span><time class=\"entry-date published\" datetime=\"2023-05-03T05:24:12-07:00\">2023年5月3日星期三</time><time class=\"updated\" datetime=\"2023-05-03T08:58:18-07:00\">2023年5月3日星期三</time></span> <span class=\"byline\"><span class=\"author vcard\"><span class=\"screen-reader-text\">作者</span>作者：<a class=\"url fn n\" href=\"https://stratechery.com/author/stratechery/\">本·湯普森</a></span></span> </div><!-- .entry-meta -->\\n</header><!-- .entry-header -->\\n<div class=\"entry-content\">\\n<p>早安，</p>\\n<p>在<a href=\"https://sharptech.fm/member/episode/whats-the-deal-with-micropayments-costs-and-benefits-and-twitter-blue-more-thoughts-on-microsoft-activision\">週一的Sharp Tech</a>中，我們討論了為什麼我一直對微支付持懷疑態度，包括Twitter在這個領域的計劃。</p>\\n<p>與此同時，<a href=\"https://sharpchina.fm/member/episode/the-lu-snafu-a-broadened-espionage-act-chinas-own-regional-banking-crisis-a-beginners-guide-to-the-taiwan-status-quo\">Sharp China</a>討論了盧沙野大使在歐盟的煽動性言論，而<a href=\"https://goat.passport.online/member/episode/beam-heartbreak-and-steph-nirvana-nuggets-give-the-suns-a-reality-check-maybe-the-heat-will-never-lose-again\">Greatest of All Talk</a>繼續成為持續進行中的NBA季後賽的主要來源。</p>\\n<p>您可以通過上面的鏈接收聽這些播客，或使用本電子郵件底部的鏈接將它們添加到您的播客播放器中。</p>\\n<p>接下來是更新：</p>\\n<h3>Facebook收益</h3>\\n<p>來自<a href=\"https://www.wsj.com/articles/meta-platforms-q1-earnings-report-2023-aa820bcd\">華爾街日報</a>：</p>\\n<blockquote><p>\\n  Facebook母公司Meta Platforms Inc.週三報告稱，由於廣告業務持續改善，公司首次實現了近一年的銷售增長，而公司在首席執行官馬克·扎克伯格所稱的“效率年”期間繼續削減支出。扎克伯格先生將其中一些收益歸因於Reels，該公司的短片視頻產品。扎克伯格表示，Reels正在增加整個應用程式的參與度，而該公司認為它正在在短片視頻市場上獲得份額…</p>\\n<p>  該公司報告了286億美元的收入，比去年同期增長3％，超出FactSet調查的分析師預期的近277億美元。這打破了Meta收入自2012年上市以來三個季度從去年同期下降的紀錄。股票在盤後交易中大漲逾12％，因為該公司還預測第二季度收入可能達到320億美元。</p>\\n</blockquote>\\n<p>我知道我有點晚報告這些收益，但坦白地說，我已經在六個月前的<a href=\"https://stratechery.com/2022/meta-myths/\">Meta Myths</a>中涵蓋了它們；為了回顧，我們可以看到Meta的收入已經恢復增長。</p>', 'w:</p>\\n<p><strong>迷思1：用戶正在離開Facebook</strong> — 實際上，Meta在每個市場上都有順序增加的用戶，超過了30億的日活躍用戶標誌（我會注意到首席財務官Susan Li迴避了有關Facebook應用程序整體參與度的問題）。</p>\\n<p><strong>迷思2：Instagram的參與度正在下降</strong> — 實際上，由於Reels參與度的增加，Instagram的參與度繼續激增。值得注意的是，正是這種增加的參與度驅動了Meta的樂觀情緒，認爲Reels到年底將實現收支平衡；是的，它們會佔用Feed和Stories的時間，而這些內容的變現效率更高，因爲用戶可以更快地滑動它們，但這就是用戶花費更多時間與Reels互動的原因。</p>\\n<p><strong>迷思3：TikTok正在主導</strong> — 這種增加的Reels參與度並不是在真空中發生的：Meta認爲他們正在奪取市場份額，我所看到的所有證據都表明確實如此。</p>\\n<p><strong>迷思4：廣告正在消亡</strong> — 顯然不是這樣。實際上，可以說Meta在很長一段時間內擁有了單一最顯著的廣告季度。以下是我多年來一直在Facebook收益更新中引用的圖表：</p>\\n<p><img alt=\"Facebook關鍵廣告指標的增長率\" class=\"aligncenter size-full wp-image-10916\" data-recalc-dims=\"1\" decoding=\"async\" height=\"292\" sizes=\"(max-width: 640px) 100vw, 640px\" src=\"https://i0.wp.com/stratechery.com/wp-content/uploads/2023/05/facebookearnings-1.png?resize=640%2C292&amp;ssl=1\" srcset=\"https://i0.wp.com/stratechery.com/wp-content/uploads/2023/05/facebookearnings-1.png?w=1280&amp;ssl=1 1280w, https://i0.wp.com/stratechery.com/wp-content/uploads/2023/05/facebookearnings-1.png?resize=300%2C137&amp;ssl=1 300w, https://i0.wp.com/stratechery.com/wp-content/uploads/2023/05/facebookearnings-1.png?resize=1024%2C467&amp;ssl=1 1024w, https://i0.wp.com/stratechery.com/wp-content/uploads/2023/05/facebookearnings-1.png?resize=768%2C350&amp;ssl=1 768w, https://i0.wp.com/stratechery.com/wp-content/uploads/2023/05/facebookearnings-1.png?resize=1200%2C548&amp;ssl=1 1200w\" width=\"640\"/></p>\\n<p>簡要回顧一下我爲什麼關注這張圖表，有三種方法可以增加廣告收入：</p>\\n<ol>\\n<li>增加用戶數量</li>\\n<li>增加每個用戶看到的廣告數量</li>\\n<li>增加廣告主支付的每個廣告的價格</li>\\n</ol>\\n<p>用戶數量對於Meta來說並沒有太大的影響，至少與十年前相比如此，儘管如上所述，用戶數量確實在繼續增加，但主要是在世界上收入較低的地區。</p>\\n<p>每個用戶看到的廣告數量可以通過人爲或自然的方式增加。人爲增加的方式是增加廣告負載；Meta在2017年停止了這樣做，這就是爲什麼印象增長率開始下降的原因。另一方面，自然增長可以通過增加參與度（從而提供更多展示廣告的機會）和/或增加表面積來實現；後者的一個例子是Stories，它在2018年重新加速了印象增長。</p>\\n<p>每個廣告的價格 — 記住，是由拍賣設置的，而不是Meta本身 — 也可以通過兩種方式增加：首先，Meta可以更好地定位廣告，增加廣告主的廣告投資回報率（ROAS），提高他們的支付意願。然而，由於這些價格是在拍賣中設定的，因此更重要的是，廣告主之間的競爭會推高價格。</p>', '廣告價格的一個重要驅動因素是可用的曝光次數。這就是為什麼每當曝光次數增加時 - 例如當故事功能開始流行時，或最近Reels的增加 - 每個廣告的價格就會下降，反之亦然。</p>\\n<p>但需要注意的是，上一季度這種聯繫明顯減弱了：多年來，曝光增長的連續變化 - 從23%到26% - 和廣告價格增長的連續變化 - 從-22%到-17% - 同時朝著同一個方向移動。換句話說，Meta增加了曝光次數，而雖然廣告價格下降了，但它們下降的幅度比曝光增長所預期的要小。</p>\\n<p>這是CFO Susan Li提到百分比的<a href=\"https://s21.q4cdn.com/399680738/files/doc_financials/2023/q1/META-Q1-2023-Earnings-Call-Transcript.pdf\">盈利電話</a>的一部分：</p>\\n<blockquote><p>\\n  在第一季度，我們服務的廣告曝光次數總計增加了26％，平均廣告價格下降了17％。曝光增長主要由亞太地區和其他地區推動。年度價格下降主要由強勁的曝光增長，特別是來自低價值表面和地區的曝光增長，外幣貶值和較低的廣告需求所推動。儘管整體價格仍受到這些因素的壓力，但我們認為我們持續改進廣告定位和測量，正在為廣告商帶來改善的結果。\\n</p></blockquote>\\n<p>多年來，Meta以低估其業務實力而聞名：該公司非常擅長在一次電話中傾銷所有壞消息，提供令人失望的預測，然後在接下來的幾年中超越該預測。這種評論是其中的一部分！Li根本沒有提到這種衍生品的分歧，而且在電話中的任何分析師都沒有問她。然而，最後一句話幾乎肯定解釋了正在發生的事情：Meta已經破解了廣告定位的後ATT代碼。</p>\\n<p><strong>迷思5：Meta的支出是浪費</strong> - CEO Mark Zuckerberg表示，由於AI，Meta的盈利能力得到了提高，而AI的建設是Meta增加資本支出的最大因素：</p>\\n<blockquote><p>\\n  我們的AI工作也正在改善盈利能力。 Instagram上的Reels盈利效率季度環比增長超過30％，Facebook上的Reels盈利效率季度環比增長超過40％。 Advantage +購物活動的每日收入在過去六個月中增加了7倍。\\n</p></blockquote>\\n<p>不用說，這種支出不是浪費；實際上，我在那篇文章中主張這將使Meta變得更加強大：</p>\\n<blockquote><p>\\n  最後一點可能是最重要的：ATT對Meta的影響比其他任何公司都更大，因為它已經擁有遠超其他公司的最大且最精細調的廣告業務，但從長遠來看，它應該加深Meta的壕溝。這種投資水平對於像Snap或Twitter或數字廣告中的其他落後者來說根本不可行（即使超出了Snap依賴雲提供商而不是自己的數據中心的事實）；當您將Meta的廣告定位很可能開始脫穎而出（除了Google之外），並將Reels帶來的大量庫存增加（降低價格）時，任何廣告商都會想知道為什麼要去其他地方。</p></blockquote>\\n<p>值得注意的是，即使YouTube的收入下降，Meta的收入也有所增加；</p>', '鑑於YouTube是Google業務中最容易受到ATT影響的部分，這種命運的轉變似乎很值得注意。而Snap則<a href=\"https://www.cnbc.com/2023/04/27/snap-q1-earnings-report-2023.html\">再次錯失收入</a>，導致其市值跌至130億美元。Meta受到了蘋果的重創，但顯然該公司不僅倖存下來，而且可能比以往任何時候都更強大，特別是在競爭地位方面。\\n\\n這帶出了我認為最令人震驚的收益電話的部分；我通常不會挑剔分析師，但這個問題讓我困惑：\\n\\n「Mark，這個問題有點哲學，但如果我們比較Meta今天在IDFA cookie淘汰之前的世界中的相對競爭地位，考慮到所有這些技術整合和AI工具，你如何看待數字廣告的相對競爭地位？因為我認為普遍觀點是，隱私會使競爭更加公平，但顯然並非如此。」\\n\\n如果我說過一次，我就說過一百萬次：隱私不會使競爭更加公平；實際上，它的作用正好相反，就像印象和每廣告價格之間的關係一樣。隱私限制越多，最具支配地位的玩家擁有的第一方數據越多，越有能力繞過限制，他們的優勢就越大。這在歐洲的GDPR中是這樣，在ATT中也是這樣，我很難理解人們仍然認為它會有其他結果。是的，最大的玩家在絕對基礎上感受到最大的痛苦，但那是因為他們很大；他們相對於競爭對手的位置最終變得更強，這在Meta的情況下顯然是如此。\\n\\n生成式AI和消息盈利\\n\\n這裡有兩個背景知識。首先，我最感興趣的生成式AI領域之一是其在廣告中的應用：Meta不必提供A/B測試的資產，而是可以為眾多羣體生成圖像，對比測試無窮無盡，不僅基於定向，還基於內容提供個性化廣告。\\n\\n其次，去年Meta披露，其點擊到消息廣告業務（將潛在客戶直接連接到WhatsApp和Messenger中的廣告商）正在以100億美元的年收入運行（Meta沒有更新該數字，但Li表示上一季度繼續增長）。\\n\\n有趣的是將這兩件事結合起來的潛力；在回答有關生成式AI對Meta廣告業務的影響的問題時，扎克伯格說：\\n\\n「我還認為，一些AI代理和消息傳遞以及商業消息之間會有一個非常有趣的融合，現在我們看到商業消息最成功的地方，是那些很多企業可以負擔基本上讓人們回答很多問題並在聊天中與他們互動的地方。顯然，一旦你啟用了數千萬小企業代理人代表他們行事的能力，你將有更多的企業能夠負擔與客戶聊天的人。所以我認為這也可能是一個相當大的機會。」\\n\\n簡而言之，這種消息廣告', '更好的是，如果你有人可以聊天，那麼它的效果會更好；大型語言模型意味著很快每個企業都能夠提供這樣的功能。</p>\\n<h3>開源和人工智慧</h3>\\n<p>扎克伯格在他的演講中強調了開源：</p>\\n<blockquote><p>\\n  現在，大多數正在訓練大型語言模型的公司都有導致他們採用封閉式開發方法的商業模式。我認為有一個重要的機會可以幫助創建一個開放的生態系統。如果我們能夠幫助成為其中的一部分，那麼整個行業將標準化使用這些開放工具並進一步改進它們。這將使其他公司更容易與我們的產品和平臺集成，隨著我們實現更多的集成，這將有助於我們的產品保持領先地位。</p>\\n<p>  我們對人工智慧和基礎設施的方法一直相當開放。我們開源了許多最先進的模型，讓人們可以進行實驗和構建。本季度，我們向研究人員發布了LLaMa LLM。它有650億個參數，但表現優於更大的模型，並且已經被證明非常受歡迎。我們還開源了其他三個開創性的視覺模型以及它們的訓練數據和模型權重——Segment Anything、DinoV2和我們的Animated Drawings工具——我們對所有這些都得到了積極的反饋。\\n</p></blockquote>\\n<p>LLaMa並不是真正的開源，它不能用於商業應用，但正如我在今年早些時候的一次更新中所詳細介紹的那樣，它的可用性引發了實驗和創新的爆發，特別是在本地運行LLM方面。扎克伯格是在暗示Meta的一些模型真正開源嗎？</p>\\n<p>扎克伯格在問答環節中進一步闡述了開源的觀點：</p>\\n<blockquote><p>\\n  我認為我們提供的產品和我們撰寫的許多技術基礎設施之間有一個重要的區別，特別是支持它們的軟件。從歷史上看，無論是我們所做的開放計算項目還是僅僅是開源我們構建的許多基礎設施，我們在歷史上都開源了許多這些基礎設施，即使我們沒有開源我們核心產品的代碼或任何其他東西。</p>\\n<p>  我認為我們這樣做的原因是，與空間中的其他一些公司不同，我們不是在銷售雲計算服務，我們試圖保持不同的軟件基礎設施專有。對我們來說，如果行業標準化使用我們正在使用的基本工具，那麼這將更好，因此我們可以從其他人的改進中受益，而其他人使用這些工具的情況下，有時可以降低這些東西的成本，這使我們的業務更加高效。因此，我認為在基礎設施方面，我們只是在玩一個與Google、Microsoft或Amazon等公司不同的遊戲，這創造了不同的激勵因素。</p>\\n</blockquote>\\n<p>Meta一直非常擅長在基礎設施方面追求“商品化你的補充品”策略；這正是這種策略的表述。Meta的價值在於其網絡和應用程序；在價值鏈的任何其他地方尋求某種形式的差異化是不利的，事實上，最好的結果是行業最終以Meta的基礎設施為標準。', '「Meta」正在開源模型，這是由 Facebook 創辦人馬克·扎克伯格在一次採訪中透露的。他表示，Meta 將會開源一些低層級的模型和工具，以降低 Meta 的成本。扎克伯格還說，Meta 將會推動並協助建立一個開放的生態系統，這對於 Meta 來說非常重要。他提到了 PyTorch 和 Open Compute 這兩個模型，這些模型已經成為了業界的標準工具，Meta 希望能夠將這些模型開源，讓更多的開發者能夠使用這些工具，並且能夠更好地與社區進行整合。扎克伯格還表示，Meta 的產品工作本身將會是具體和整合的，並不是所有的工作都會開源。但是，Meta 將會開源一些基本模型，以幫助建立一個開放的生態系統。', 'PyTorch 是一個非常重要的開源基礎架構工具，Meta 成功地將其開源，使整個行業受益，進而使 Meta 受益。</p>\\n<p>其次，注意到“隨著時間的推移，使我們運行所有這些基礎架構的方式更加高效”的詞語。正如我所指出的，這是 LLaMA 可用性的最大成果，而 AI 模型高效運行的最大潛在受益者將是 Meta：Li 在<a href=\"https://s21.q4cdn.com/399680738/files/doc_financials/2023/q1/META-Q1-2023-Follow-Up-Call-Transcript.pdf\">跟進電話會議</a>中提到的一點是，Meta 所有的資本支出都是用於 AI 訓練；將 AI 納入用戶或廣告面向也將需要支出推理能力，考慮到 Meta 的用戶基數和持續的推理需求，這將是更加昂貴的。這意味著沒有任何公司比 Meta 從提高效率中受益更多，而能夠在本地運行模型將是一個完全改變遊戲規則的因素，因為 Meta 將免費獲得推理能力。</p>\\n<p>第三，在最後一段中，扎克伯格指出 LLaMA 不是真正的開源，但他們仍然看到了這些收益，而 Meta“希望將其工作變得比那更加開放”。這讓我想知道扎克伯格是否認為 Meta 是少數幾家實際上可以使 AI 廣泛可用的公司之一，而這本身就是一個好事。我當然同意，並希望如此：我認為 AI 的潛在上行是巨大的，通過加速和加倍創新來應對即將到來的破壞是正確的方法。現在想要把 AI 放回瓶子裡是不可能的，但我仍然對一個反烏託邦的結局感到警惕，即 AI 只會落入少數公司和政府的手中，他們將聲稱這是為了我們的利益，即使通過最高科技版本的中央計劃，也會失去無數的潛在好處。</p>\\n<hr/>\\n<p>此更新將在今天稍晚作為播客提供。要在播客播放器中接收它，<a href=\"https://stratechery.passport.online/member\">請訪問 Stratechery</a>。</p>\\n<p>Stratechery 更新是為單個收件人而設計的，但偶爾轉發也沒有問題！如果您想為您的團隊訂購多個訂閱（最少 5 個）並獲得團體折扣，請直接與我聯繫。</p>\\n<p>感謝您的訂閱，祝您有美好的一天！</p>\\n<div class=\"sharedaddy sd-sharing-enabled\"><div class=\"robots-nocontent sd-block sd-social sd-social-icon-text sd-sharing\"><h3 class=\"sd-title\">分享</h3><div class=\"sd-content\"><ul><li class=\"share-facebook\"><a class=\"share-facebook sd-button share-icon\" data-shared=\"sharing-facebook-10915\" href=\"https://stratechery.com/2023/facebook-earnings-generative-ai-and-messaging-monetization-open-source-and-ai/?share=facebook\" rel=\"nofollow noopener noreferrer\" target=\"_blank\" title=\"在 Facebook 上分享\"><span>Facebook</span></a></li><li class=\"share-twitter\"><a class=\"share-twitter sd-button share-icon\" data-shared=\"sharing-twitter-10915\" href=\"https://stratechery.com/2023/facebook-earnings-generative-ai-and-messaging-monetization-open-source-and-ai/?share=twitter\" rel=\"nofollow noopener noreferrer\" target=\"_blank\" title=\"在 Twitter 上分享\"><span>Twitter</span></a></li><li class=\"share-linkedin\"><a class=\"share-linkedin sd-button share-icon\" data-shared=\"', 'sharing-linkedin-10915\" href=\"https://stratechery.com/2023/facebook-earnings-generative-ai-and-messaging-monetization-open-source-and-ai/?share=linkedin\" rel=\"nofollow noopener noreferrer\" target=\"_blank\" title=\"點擊分享至 LinkedIn\"><span>LinkedIn</span></a></li><li class=\"share-email\"><a class=\"share-email sd-button share-icon\" data-email-share-error-text=\"如果您無法透過電子郵件分享，可能是因為您的瀏覽器未設定電子郵件。您可能需要自行建立新的電子郵件。\" data-email-share-error-title=\"您是否已設定電子郵件？\" data-email-share-nonce=\"e708fcb31b\" data-email-share-track-url=\"https://stratechery.com/2023/facebook-earnings-generative-ai-and-messaging-monetization-open-source-and-ai/?share=email\" data-shared=\"\" href=\"mailto:?subject=%5BShared%20Post%5D%20Facebook%20Earnings%2C%20Generative%20AI%20and%20Messaging%20Monetization%2C%20Open%20Source%20and%20AI&amp;body=https%3A%2F%2Fstratechery.com%2F2023%2Ffacebook-earnings-generative-ai-and-messaging-monetization-open-source-and-ai%2F&amp;share=email\" rel=\"nofollow noopener noreferrer\" target=\"_blank\" title=\"點擊透過電子郵件寄送連結給朋友\"><span>電子郵件</span></a></li><li class=\"share-end\"></li></ul></div></div></div>\\n<div class=\"jp-relatedposts\" id=\"jp-relatedposts\">\\n<h3 class=\"jp-relatedposts-headline\"><em>相關文章</em></h3>\\n</div> </div><!-- .entry-content -->\\n</article>']\n"
     ]
    }
   ],
   "source": [
    "traditional_trimmed_translated_array = simplified_to_traditional(trimmed_translated_array)\n",
    "print(traditional_trimmed_translated_array)"
   ]
  },
  {
   "cell_type": "markdown",
   "id": "01bb339b-c7e3-4053-a714-e0ff455c64b6",
   "metadata": {},
   "source": [
    "### Combine the array into a string"
   ]
  },
  {
   "cell_type": "code",
   "execution_count": 17,
   "id": "4a238ee7-cbc4-4d29-a6ee-d5fb32dab0d9",
   "metadata": {
    "tags": []
   },
   "outputs": [],
   "source": [
    "def insert_modified_article_tag(html, modified_article_tag):\n",
    "    soup = BeautifulSoup(html, 'lxml')\n",
    "\n",
    "    original_article_tag = soup.find('article')\n",
    "    if original_article_tag:\n",
    "        new_article_tag = BeautifulSoup(modified_article_tag, 'lxml').article\n",
    "        if new_article_tag:\n",
    "            original_article_tag.replace_with(new_article_tag)\n",
    "\n",
    "    return str(soup)"
   ]
  },
  {
   "cell_type": "code",
   "execution_count": 25,
   "id": "6b082364-8eb5-407f-af91-2af6d2d3a367",
   "metadata": {
    "tags": []
   },
   "outputs": [],
   "source": [
    "translated = ''.join(traditional_trimmed_translated_array)\n",
    "translated_html = insert_modified_article_tag(whole_html, translated)"
   ]
  },
  {
   "cell_type": "markdown",
   "id": "09cc282f-e5c3-4043-9d71-16cf45c9e8ed",
   "metadata": {},
   "source": [
    "### Output the function to a file"
   ]
  },
  {
   "cell_type": "code",
   "execution_count": 19,
   "id": "8e597d0a-06a1-4984-9eb3-cfc79ac40f00",
   "metadata": {
    "tags": []
   },
   "outputs": [],
   "source": [
    "from datetime import datetime\n",
    "\n",
    "def write_to_file(text, optional_name=\"\"):\n",
    "    \n",
    "    # Get the current date\n",
    "    current_date = datetime.now()\n",
    "\n",
    "    # Format the date as a string in the format \"yymmdd\"\n",
    "    date_string = current_date.strftime('%y%m%d')\n",
    "\n",
    "    # Create the filename\n",
    "    filename = f\"{date_string}-Stratechery{optional_name}.html\"\n",
    "\n",
    "    # Write the text to the file\n",
    "    with open(filename, 'w', encoding='utf-8') as f:\n",
    "        f.write(text)      "
   ]
  },
  {
   "cell_type": "code",
   "execution_count": 26,
   "id": "83926fba-3168-4641-a373-9629bd8a1df4",
   "metadata": {
    "tags": []
   },
   "outputs": [],
   "source": [
    "write_to_file(translated_html, 'fjsdalkferwjksldaf')"
   ]
  },
  {
   "cell_type": "code",
   "execution_count": null,
   "id": "fd99bf2a-c661-493d-8549-a053f273661e",
   "metadata": {},
   "outputs": [],
   "source": []
  },
  {
   "cell_type": "code",
   "execution_count": null,
   "id": "e9735145-0aef-4de2-a506-260f13089e60",
   "metadata": {},
   "outputs": [],
   "source": []
  }
 ],
 "metadata": {
  "kernelspec": {
   "display_name": "Python 3 (ipykernel)",
   "language": "python",
   "name": "python3"
  },
  "language_info": {
   "codemirror_mode": {
    "name": "ipython",
    "version": 3
   },
   "file_extension": ".py",
   "mimetype": "text/x-python",
   "name": "python",
   "nbconvert_exporter": "python",
   "pygments_lexer": "ipython3",
   "version": "3.10.6"
  }
 },
 "nbformat": 4,
 "nbformat_minor": 5
}
